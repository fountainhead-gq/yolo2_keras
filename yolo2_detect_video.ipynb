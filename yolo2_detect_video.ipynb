{
 "cells": [
  {
   "cell_type": "code",
   "execution_count": 1,
   "metadata": {},
   "outputs": [
    {
     "name": "stderr",
     "output_type": "stream",
     "text": [
      "Using TensorFlow backend.\n"
     ]
    }
   ],
   "source": [
    "import os\n",
    "import imageio\n",
    "from matplotlib.pyplot import imshow\n",
    "import numpy as np\n",
    "from PIL import Image\n",
    "import cv2\n",
    "from keras import backend as K\n",
    "from keras.models import load_model\n",
    "\n",
    "from yolo_utils import read_classes, read_anchors, generate_colors, preprocess_image, draw_boxes,detect_video\n",
    "from yad2k.models.keras_yolo import yolo_head, yolo_eval"
   ]
  },
  {
   "cell_type": "code",
   "execution_count": 2,
   "metadata": {},
   "outputs": [
    {
     "name": "stderr",
     "output_type": "stream",
     "text": [
      "/home/fountainhead_gq/anaconda3/envs/tensorflow_p35/lib/python3.5/site-packages/keras/models.py:252: UserWarning: No training configuration found in save file: the model was *not* compiled. Compile it manually.\n",
      "  warnings.warn('No training configuration found in save file: '\n"
     ]
    }
   ],
   "source": [
    "class_names = read_classes(\"model_data/coco_classes.txt\")\n",
    "anchors = read_anchors(\"model_data/yolo_anchors.txt\")\n",
    "yolo_model = load_model(\"model_data/yolo.h5\")\n",
    "# yolo_model.summary()"
   ]
  },
  {
   "cell_type": "code",
   "execution_count": 3,
   "metadata": {},
   "outputs": [],
   "source": [
    "yolo_outputs = yolo_head(yolo_model.output, anchors, len(class_names))\n",
    "\n",
    "model_image_size = yolo_model.layers[0].input_shape[1:3] # 608,608"
   ]
  },
  {
   "cell_type": "code",
   "execution_count": 4,
   "metadata": {},
   "outputs": [],
   "source": [
    "video_name ='test_video.mp4'\n",
    "image_path = os.path.join('videos', video_name)\n",
    "output_path = os.path.join('out', video_name)"
   ]
  },
  {
   "cell_type": "code",
   "execution_count": null,
   "metadata": {},
   "outputs": [],
   "source": [
    "def detect_video(image_path, output_path, model_image_size, yolo_model, class_names, yolo_outputs): \n",
    "    from keras import backend as K\n",
    "    input_image_shape = K.placeholder(shape=(2, ))\n",
    "    sess = K.get_session()\n",
    "    \n",
    "    video_in = cv2.VideoCapture(image_path)\n",
    "    #width = video_in.get(cv2.cv.CV_CAP_PROP_FRAME_WIDTH)   # float\n",
    "    #height = video_in.get(cv2.cv.CV_CAP_PROP_FRAME_HEIGHT) # float\n",
    "    width, height = int(video_in.get(3)), int(video_in.get(4))\n",
    "    FPS = video_in.get(5)\n",
    "    \n",
    "    video_out = cv2.VideoWriter()\n",
    "    video_out.open(output_path, cv2.VideoWriter_fourcc(*'DIVX'), FPS, (width, height))\n",
    "    \n",
    "    width = np.array(width, dtype=float)\n",
    "    height = np.array(height, dtype=float)\n",
    "    image_shape = (height, width)\n",
    "    \n",
    "    while video_in.isOpened():\n",
    "        ret, data = video_in.read()\n",
    "        if ret==False:\n",
    "            break\n",
    "        video_array = cv2.cvtColor(data,cv2.COLOR_BGR2RGB)\n",
    "        image = Image.fromarray(video_array,mode='RGB')\n",
    "        resized_image = image.resize(tuple(reversed(model_image_size)), Image.BICUBIC)\n",
    "        image_data = np.array(resized_image, dtype='float32')\n",
    "        image_data /= 255.\n",
    "        image_data = np.expand_dims(image_data, 0)   # Add batch dimension.\n",
    "        \n",
    "        boxes, scores, classes = yolo_eval(yolo_outputs, image_shape)\n",
    "        out_boxes, out_scores, out_classes = sess.run([boxes, scores, classes],\n",
    "                                                      feed_dict={yolo_model.input: image_data,\n",
    "                                                                 input_image_shape: [image.size[1], image.size[0]],\n",
    "                                                                 K.learning_phase(): 0})\n",
    "        colors = generate_colors(class_names)\n",
    "        draw_boxes(image, out_scores, out_boxes, out_classes, class_names, colors)\n",
    "        video_out.write(cv2.cvtColor(np.array(image), cv2.COLOR_RGB2BGR))\n",
    "        \n",
    "    sess.close()\n",
    "    video_in.release()\n",
    "    video_out.release()\n",
    "    print(\"detect Done\")"
   ]
  },
  {
   "cell_type": "code",
   "execution_count": 5,
   "metadata": {},
   "outputs": [
    {
     "name": "stdout",
     "output_type": "stream",
     "text": [
      "car 0.61 (467, 279) (524, 315)\n",
      "car 0.62 (459, 280) (509, 316)\n",
      "car 0.63 (452, 283) (508, 314)\n",
      "car 0.67 (459, 280) (509, 313)\n",
      "car 0.65 (461, 282) (509, 313)\n",
      "car 0.73 (463, 283) (514, 312)\n",
      "car 0.63 (473, 284) (527, 313)\n",
      "car 0.73 (490, 283) (537, 313)\n",
      "car 0.62 (497, 282) (546, 311)\n",
      "car 0.67 (502, 283) (556, 310)\n",
      "truck 0.61 (303, 150) (695, 378)\n",
      "car 0.64 (169, 274) (316, 365)\n",
      "truck 0.70 (320, 164) (670, 391)\n",
      "car 0.70 (102, 275) (307, 365)\n",
      "bus 0.67 (336, 192) (613, 387)\n",
      "car 0.77 (43, 274) (280, 369)\n",
      "bus 0.67 (340, 210) (596, 401)\n",
      "car 0.78 (0, 275) (254, 382)\n",
      "car 0.75 (5, 270) (229, 382)\n",
      "bus 0.84 (336, 218) (570, 399)\n",
      "car 0.72 (10, 254) (176, 391)\n",
      "bus 0.84 (319, 229) (564, 401)\n",
      "person 0.62 (537, 336) (563, 362)\n",
      "person 0.65 (658, 317) (691, 376)\n",
      "bus 0.81 (317, 279) (461, 401)\n",
      "bus 0.60 (317, 285) (457, 394)\n",
      "person 0.62 (664, 317) (695, 375)\n",
      "car 0.60 (269, 348) (307, 371)\n",
      "bus 0.84 (319, 287) (453, 392)\n",
      "car 0.60 (270, 347) (307, 372)\n",
      "truck 0.68 (160, 318) (243, 381)\n",
      "bus 0.80 (318, 290) (445, 387)\n",
      "truck 0.68 (151, 316) (236, 381)\n",
      "bus 0.77 (316, 296) (440, 381)\n",
      "bus 0.81 (324, 295) (429, 375)\n",
      "bus 0.80 (326, 299) (425, 369)\n",
      "car 0.61 (252, 329) (303, 364)\n",
      "bus 0.82 (328, 303) (423, 366)\n",
      "person 0.76 (306, 241) (478, 406)\n",
      "person 0.76 (306, 241) (477, 406)\n",
      "person 0.73 (327, 246) (511, 405)\n",
      "person 0.81 (306, 247) (474, 411)\n",
      "person 0.77 (332, 250) (514, 400)\n",
      "person 0.75 (331, 248) (516, 398)\n",
      "person 0.80 (336, 245) (510, 391)\n",
      "person 0.71 (341, 244) (509, 385)\n",
      "person 0.63 (322, 235) (466, 338)\n",
      "person 0.65 (327, 236) (465, 336)\n",
      "person 0.70 (332, 238) (463, 333)\n",
      "person 0.75 (329, 236) (463, 329)\n",
      "person 0.72 (330, 236) (464, 325)\n",
      "car 0.67 (542, 279) (609, 337)\n",
      "person 0.75 (334, 233) (461, 322)\n",
      "car 0.68 (0, 175) (89, 326)\n",
      "car 0.70 (532, 269) (601, 325)\n",
      "person 0.76 (325, 221) (456, 306)\n",
      "car 0.61 (2, 177) (99, 331)\n",
      "person 0.67 (340, 215) (443, 289)\n",
      "car 0.72 (532, 265) (586, 309)\n",
      "car 0.66 (517, 256) (587, 315)\n",
      "person 0.68 (344, 207) (441, 286)\n",
      "car 0.70 (0, 175) (107, 330)\n",
      "car 0.66 (517, 256) (587, 315)\n",
      "person 0.68 (344, 207) (441, 286)\n",
      "car 0.70 (0, 175) (106, 330)\n",
      "car 0.62 (514, 253) (572, 300)\n",
      "person 0.65 (341, 204) (435, 284)\n",
      "car 0.67 (508, 248) (565, 294)\n",
      "person 0.61 (344, 203) (425, 264)\n",
      "car 0.72 (501, 246) (548, 288)\n",
      "person 0.65 (341, 201) (423, 260)\n",
      "car 0.70 (495, 239) (545, 280)\n",
      "car 0.62 (5, 160) (136, 357)\n",
      "person 0.62 (335, 201) (423, 257)\n",
      "car 0.63 (488, 234) (543, 276)\n",
      "person 0.63 (333, 202) (421, 256)\n",
      "car 0.67 (4, 163) (153, 352)\n",
      "person 0.66 (334, 204) (420, 257)\n",
      "car 0.68 (0, 155) (615, 470)\n",
      "car 0.69 (0, 164) (159, 396)\n",
      "car 0.62 (14, 168) (600, 455)\n",
      "person 0.64 (335, 206) (418, 260)\n",
      "car 0.66 (0, 159) (160, 395)\n",
      "car 0.60 (646, 299) (701, 444)\n",
      "person 0.63 (337, 210) (416, 262)\n",
      "car 0.68 (42, 178) (533, 441)\n",
      "person 0.62 (339, 211) (413, 263)\n",
      "car 0.69 (8, 174) (604, 451)\n",
      "person 0.60 (587, 219) (619, 278)\n",
      "person 0.62 (337, 211) (415, 263)\n",
      "car 0.66 (622, 273) (702, 442)\n",
      "car 0.72 (43, 177) (566, 446)\n",
      "person 0.63 (335, 210) (415, 263)\n",
      "car 0.68 (2, 174) (176, 343)\n",
      "car 0.74 (48, 177) (557, 449)\n",
      "car 0.76 (613, 273) (704, 443)\n",
      "car 0.71 (596, 271) (703, 442)\n",
      "car 0.72 (0, 176) (176, 345)\n",
      "car 0.74 (63, 178) (542, 448)\n",
      "person 0.61 (604, 220) (634, 272)\n",
      "person 0.62 (333, 208) (415, 262)\n",
      "car 0.75 (83, 178) (501, 446)\n",
      "car 0.80 (580, 263) (704, 436)\n",
      "person 0.64 (328, 207) (403, 258)\n",
      "car 0.67 (0, 181) (188, 341)\n",
      "car 0.74 (573, 251) (704, 440)\n",
      "car 0.77 (80, 179) (521, 454)\n",
      "detect Done\n"
     ]
    }
   ],
   "source": [
    "detect_video(image_path, output_path, model_image_size, yolo_model, class_names, yolo_outputs)"
   ]
  }
 ],
 "metadata": {
  "kernelspec": {
   "display_name": "Python 3",
   "language": "python",
   "name": "python3"
  },
  "language_info": {
   "codemirror_mode": {
    "name": "ipython",
    "version": 3
   },
   "file_extension": ".py",
   "mimetype": "text/x-python",
   "name": "python",
   "nbconvert_exporter": "python",
   "pygments_lexer": "ipython3",
   "version": "3.5.4"
  },
  "latex_envs": {
   "LaTeX_envs_menu_present": true,
   "autocomplete": true,
   "bibliofile": "biblio.bib",
   "cite_by": "apalike",
   "current_citInitial": 1,
   "eqLabelWithNumbers": true,
   "eqNumInitial": 1,
   "hotkeys": {
    "equation": "Ctrl-E",
    "itemize": "Ctrl-I"
   },
   "labels_anchors": false,
   "latex_user_defs": false,
   "report_style_numbering": false,
   "user_envs_cfg": false
  },
  "varInspector": {
   "cols": {
    "lenName": 16,
    "lenType": 16,
    "lenVar": 40
   },
   "kernels_config": {
    "python": {
     "delete_cmd_postfix": "",
     "delete_cmd_prefix": "del ",
     "library": "var_list.py",
     "varRefreshCmd": "print(var_dic_list())"
    },
    "r": {
     "delete_cmd_postfix": ") ",
     "delete_cmd_prefix": "rm(",
     "library": "var_list.r",
     "varRefreshCmd": "cat(var_dic_list()) "
    }
   },
   "types_to_exclude": [
    "module",
    "function",
    "builtin_function_or_method",
    "instance",
    "_Feature"
   ],
   "window_display": false
  }
 },
 "nbformat": 4,
 "nbformat_minor": 2
}
